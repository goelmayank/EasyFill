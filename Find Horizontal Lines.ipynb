{
 "cells": [
  {
   "cell_type": "code",
   "execution_count": 50,
   "metadata": {},
   "outputs": [],
   "source": [
    "from PIL import Image\n",
    "from PIL import ImageFilter\n",
    "im = Image.open(\"empty_w2.jpg\")\n",
    "im1 = im.filter(ImageFilter.FIND_EDGES)\n",
    "im1.show()"
   ]
  },
  {
   "cell_type": "code",
   "execution_count": 23,
   "metadata": {},
   "outputs": [],
   "source": [
    "from PIL import Image\n",
    "from PIL import ImageFont\n",
    "from PIL import ImageDraw \n",
    "\n",
    "img = Image.open(\".jpg\")\n",
    "draw = ImageDraw.Draw(img)\n",
    "# font = ImageFont.truetype(<font-file>, <font-size>)\n",
    "#font = ImageFont.truetype(\"sans-serif.ttf\", 16)\n",
    "# draw.text((x, y),\"Sample Text\",(r,g,b))\n",
    "draw.text((100, 100),\"Sample Text\",(0,0,0))\n",
    "img.show()"
   ]
  },
  {
   "cell_type": "code",
   "execution_count": 25,
   "metadata": {},
   "outputs": [],
   "source": [
    "rgb_im = im.convert('RGB')\n",
    "r, g, b = rgb_im.getpixel((1, 1))"
   ]
  },
  {
   "cell_type": "code",
   "execution_count": 26,
   "metadata": {},
   "outputs": [
    {
     "name": "stdout",
     "output_type": "stream",
     "text": [
      "54\n",
      "52\n",
      "53\n"
     ]
    }
   ],
   "source": [
    "print(r)\n",
    "print(g)\n",
    "print(b)"
   ]
  },
  {
   "cell_type": "code",
   "execution_count": 57,
   "metadata": {},
   "outputs": [],
   "source": [
    "#im = Image.open(\"W2.png\")\n",
    "im2 = im1.filter(ImageFilter.MaxFilter(size=3))\n",
    "im2.show()"
   ]
  },
  {
   "cell_type": "code",
   "execution_count": 58,
   "metadata": {},
   "outputs": [],
   "source": [
    "# how to find the blank spaces\n",
    "# get the pixel that is further away from a white and expand as long as you can\n",
    "im3 = im2.copy()\n",
    "pixels = im3.load()\n",
    "for i in range(100, 200):\n",
    "    for j in range(100, 200):\n",
    "        pixels[i, j] = (255, 255, 255)\n",
    "        \n",
    "im3.show()"
   ]
  },
  {
   "cell_type": "code",
   "execution_count": 59,
   "metadata": {},
   "outputs": [],
   "source": [
    "im2.show()"
   ]
  },
  {
   "cell_type": "code",
   "execution_count": 60,
   "metadata": {},
   "outputs": [],
   "source": [
    "def is_white(pixel_val):\n",
    "    \"\"\"tuple with (r, g, b) values\"\"\"\n",
    "    return (r + g + b) > 250*3 # allow a small noise for white"
   ]
  },
  {
   "cell_type": "code",
   "execution_count": 61,
   "metadata": {},
   "outputs": [],
   "source": [
    "def inside_image(img, coords):\n",
    "    width, height = img.size\n",
    "    return (coords[0] >=0 and coords[1] >= 0) and (coords[0] < width and coords[1] < height)"
   ]
  },
  {
   "cell_type": "code",
   "execution_count": 63,
   "metadata": {},
   "outputs": [],
   "source": [
    "def extend_dir(img, coords, direction):\n",
    "    temp_coords = coords\n",
    "    for magnitude in range(max(img.size[0], img.size[1])+2):\n",
    "        if not inside_image(img, temp_cords):\n",
    "            return magnitude\n",
    "        if is_white(img.getpixel(temp_coords)):\n",
    "            return magnitude\n",
    "        temp_coords = (temp_coords + direction[0], temp_coords + direction[1])"
   ]
  },
  {
   "cell_type": "code",
   "execution_count": 64,
   "metadata": {},
   "outputs": [],
   "source": [
    "def border_distance(img, coords):\n",
    "    return min(extend_dir(img, coords, (-1, 0)), extend_dir(img, coords, (1, 0)),\\\n",
    "               extend_dir(img, coords, (0, 1)), extend_dir(img, coords, (0, -1)))"
   ]
  },
  {
   "cell_type": "code",
   "execution_count": 65,
   "metadata": {},
   "outputs": [],
   "source": [
    "def max_distance_pixel(img):\n",
    "    width, height = img.size\n",
    "    max_border_distance = 0\n",
    "    candidate_pixel = (1, 1)\n",
    "    for i in range(0, width):\n",
    "        for j in range(0, height):\n",
    "            pixel_distance = border_distance(img, (i, j))\n",
    "            if pixel_distance >= max_border_distance:\n",
    "                max_border_distance = pixel_distance\n",
    "                candidate_pixel = (i, j)\n",
    "    return candidate_pixel"
   ]
  },
  {
   "cell_type": "code",
   "execution_count": null,
   "metadata": {},
   "outputs": [],
   "source": [
    "def expand_rectangle(img, pixel):\n",
    "    expand = (0, 0, 0, 0) # expand left, right, up, down\n",
    "    "
   ]
  },
  {
   "cell_type": "code",
   "execution_count": null,
   "metadata": {},
   "outputs": [],
   "source": [
    "def expand_up(img, left, right, line):\n",
    "    for i in range(left, right+1):\n",
    "        if inside_image(img, (i, line)) and not "
   ]
  }
 ],
 "metadata": {
  "kernelspec": {
   "display_name": "Python 3",
   "language": "python",
   "name": "python3"
  },
  "language_info": {
   "codemirror_mode": {
    "name": "ipython",
    "version": 3
   },
   "file_extension": ".py",
   "mimetype": "text/x-python",
   "name": "python",
   "nbconvert_exporter": "python",
   "pygments_lexer": "ipython3",
   "version": "3.6.0"
  }
 },
 "nbformat": 4,
 "nbformat_minor": 2
}
