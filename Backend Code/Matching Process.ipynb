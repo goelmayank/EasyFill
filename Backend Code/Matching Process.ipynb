{
 "cells": [
  {
   "cell_type": "code",
   "execution_count": 10,
   "metadata": {},
   "outputs": [],
   "source": [
    "def match(instruction, blanks):\n",
    "    \"\"\"\n",
    "    Procedure that returns the coordinates of the box that is best linked to the specific instruction\n",
    "    Ideas: Check upper left coordinate, or lower right coordinate\n",
    "    \"\"\"\n",
    "    return closestK(instruction, blanks, k=1)\n",
    "    \n",
    "def get_center(coords):\n",
    "    return ((coords[0][0] + coords[1][0])/2, (coords[0][1] + coords[1][1])/2)\n",
    "\n",
    "def get_upper_left(coords):\n",
    "    return coords[0]\n",
    "\n",
    "def get_lower_right(coords):\n",
    "    return coords[1]\n",
    "\n",
    "def get_area(coords):\n",
    "    \"\"\"Returns area of blank space\"\"\"\n",
    "    return (coords[1][0] - coords[0][0] + 1)*(coords[1][1] - coords[0][1] + 1)\n",
    "\n",
    "def euclidean(instruction, blank):\n",
    "    \"\"\"is waiting two tuples\"\"\"\n",
    "    \"\"\"we will add bias such that entries lower or to the right are favored\"\"\"\n",
    "    bias = instruction[0]-blank[0] + instruction[1]-blank[1]\n",
    "    return (instruction[0] - blank[0])**2 + (instruction[1] - blank[1])**2 + bias\n",
    "\n",
    "def manhattan(instruction, blank):\n",
    "    \"\"\"is waiting two tuples\"\"\"\n",
    "    return abs(instruction[0] - blank[0]) + abs(instruction[1] - blank[1])\n",
    "    \n",
    "def closestK(instruction, blanks, k=3):\n",
    "    blank_dist = []\n",
    "    for idx in range(len(blanks)):\n",
    "        blank_dist.append((euclidean(instruction, get_center(blanks[idx])), idx))\n",
    "    blank_dist.sort()\n",
    "    \n",
    "    best_area = 0\n",
    "    best_idx = 0\n",
    "    for i in range(k):\n",
    "        new_area = get_area(blanks[blank_dist[i][1]])\n",
    "        if new_area > best_area:\n",
    "            best_area = new_area\n",
    "            best_idx = blank_dist[i][1]\n",
    "            \n",
    "    return best_idx\n",
    "    "
   ]
  },
  {
   "cell_type": "code",
   "execution_count": 11,
   "metadata": {},
   "outputs": [],
   "source": [
    "x = [((6, 367), (692, 570)),\n",
    " ((6, 139), (692, 278)),\n",
    " ((703, 477), (981, 589)),\n",
    " ((333, 714), (864, 763)),\n",
    " ((6, 310), (692, 335)),\n",
    " ((703, 252), (981, 278)),\n",
    " ((704, 310), (980, 335)),\n",
    " ((992, 252), (1269, 278)),\n",
    " ((992, 309), (1269, 335)),\n",
    " ((6, 24), (267, 52)),\n",
    " ((6, 618), (62, 646)),\n",
    " ((6, 657), (62, 703)),\n",
    " ((73, 657), (368, 703)),\n",
    " ((279, 6), (419, 52)),\n",
    " ((73, 620), (368, 646)),\n",
    " ((379, 657), (572, 703)),\n",
    " ((379, 622), (572, 646)),\n",
    " ((583, 657), (759, 703)),\n",
    " ((602, 6), (676, 52)),\n",
    " ((703, 365), (981, 391)),\n",
    " ((703, 140), (980, 165)),\n",
    " ((703, 197), (981, 221)),\n",
    " ((779, 402), (811, 448)),\n",
    " ((771, 657), (963, 703)),\n",
    " ((845, 415), (896, 448)),\n",
    " ((974, 618), (1150, 646)),\n",
    " ((974, 657), (1150, 703)),\n",
    " ((992, 137), (1269, 165)),\n",
    " ((992, 193), (1269, 221)),\n",
    " ((1025, 402), (1065, 448)),\n",
    " ((1025, 459), (1065, 505)),\n",
    " ((1077, 402), (1269, 448)),\n",
    " ((1077, 459), (1269, 505)),\n",
    " ((1162, 657), (1269, 703)),\n",
    " ((1076, 363), (1269, 391)),\n",
    " ((6, 84), (692, 108)),\n",
    " ((431, 6), (601, 29)),\n",
    " ((703, 84), (981, 108)),\n",
    " ((583, 618), (759, 646)),\n",
    " ((944, 415), (980, 448))]"
   ]
  },
  {
   "cell_type": "code",
   "execution_count": 12,
   "metadata": {},
   "outputs": [
    {
     "data": {
      "text/plain": [
       "((6, 24), (267, 52))"
      ]
     },
     "execution_count": 12,
     "metadata": {},
     "output_type": "execute_result"
    }
   ],
   "source": [
    "x[match((0, 0), x)]"
   ]
  },
  {
   "cell_type": "code",
   "execution_count": 13,
   "metadata": {},
   "outputs": [
    {
     "data": {
      "text/plain": [
       "((6, 618), (62, 646))"
      ]
     },
     "execution_count": 13,
     "metadata": {},
     "output_type": "execute_result"
    }
   ],
   "source": [
    "x[match((100, 530), x)]"
   ]
  },
  {
   "cell_type": "code",
   "execution_count": 14,
   "metadata": {},
   "outputs": [
    {
     "data": {
      "text/plain": [
       "((333, 714), (864, 763))"
      ]
     },
     "execution_count": 14,
     "metadata": {},
     "output_type": "execute_result"
    }
   ],
   "source": [
    "x[match((423, 1000), x)]"
   ]
  },
  {
   "cell_type": "code",
   "execution_count": 15,
   "metadata": {},
   "outputs": [
    {
     "data": {
      "text/plain": [
       "((845, 415), (896, 448))"
      ]
     },
     "execution_count": 15,
     "metadata": {},
     "output_type": "execute_result"
    }
   ],
   "source": [
    "x[match((900, 400), x)]"
   ]
  },
  {
   "cell_type": "code",
   "execution_count": null,
   "metadata": {},
   "outputs": [],
   "source": []
  }
 ],
 "metadata": {
  "kernelspec": {
   "display_name": "Python 3",
   "language": "python",
   "name": "python3"
  },
  "language_info": {
   "codemirror_mode": {
    "name": "ipython",
    "version": 3
   },
   "file_extension": ".py",
   "mimetype": "text/x-python",
   "name": "python",
   "nbconvert_exporter": "python",
   "pygments_lexer": "ipython3",
   "version": "3.6.0"
  }
 },
 "nbformat": 4,
 "nbformat_minor": 2
}
