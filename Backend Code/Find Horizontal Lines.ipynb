{
 "cells": [
  {
   "cell_type": "code",
   "execution_count": 364,
   "metadata": {},
   "outputs": [],
   "source": [
    "def is_white(pixel_val):\n",
    "    \"\"\"tuple with (r, g, b) values\"\"\"\n",
    "    return (pixel_val[0] + pixel_val[1] + pixel_val[2]) > 250*3 or pixel_val[1] > 250 # allow a small noise for white\n",
    "\n",
    "def inside_image(coords):\n",
    "    global img\n",
    "    global width\n",
    "    global height\n",
    "    return (coords[0] >= 0 and coords[1] >= 0) and (coords[0] < width and coords[1] < height)\n",
    "\n",
    "def extend_dir(coords, direction):\n",
    "    global img\n",
    "    global width\n",
    "    global height\n",
    "    temp_coords = coords\n",
    "    for magnitude in range(max(width, height)+2):\n",
    "        if not inside_image(temp_coords):\n",
    "            return magnitude\n",
    "        if is_white(img[temp_coords]):\n",
    "            return magnitude\n",
    "        temp_coords = (temp_coords[0] + direction[0], temp_coords[1] + direction[1])\n",
    "    return width\n",
    "\n",
    "def border_distance(coords):\n",
    "    return min(extend_dir(coords, (-1, 0)), extend_dir(coords, (1, 0)), extend_dir(coords, (0, 1)), extend_dir(coords, (0, -1)))\n",
    "\n",
    "def max_distance_pixel():\n",
    "    global width\n",
    "    global height\n",
    "    max_border_distance = 0\n",
    "    candidate_pixel = (1, 1)\n",
    "    for i in range(0, width, 9):\n",
    "        for j in range(0, height, 9):\n",
    "            if i%60 == 0 and j == 0:\n",
    "                print(\"yolo\")\n",
    "            pixel_distance = border_distance((i, j))\n",
    "            if pixel_distance > max_border_distance:\n",
    "                max_border_distance = pixel_distance\n",
    "                candidate_pixel = (i, j)\n",
    "    print(max_border_distance, \"lol\")\n",
    "    return candidate_pixel"
   ]
  },
  {
   "cell_type": "code",
   "execution_count": 365,
   "metadata": {},
   "outputs": [],
   "source": [
    "def expand_strategy(pixel, strategy):\n",
    "    up = 0\n",
    "    down = 0\n",
    "    left = 0\n",
    "    right = 0\n",
    "    expanded = True\n",
    "    while expanded:\n",
    "        expanded = False\n",
    "        \n",
    "        for move in strategy:\n",
    "            if move == 0: # 0 is left\n",
    "                if expand_left_right(pixel[1]-up, pixel[1]+down, pixel[0]-left-1):\n",
    "                    expanded = True\n",
    "                    left += 1\n",
    "            \n",
    "            elif move == 1: # 1 is right\n",
    "                if expand_left_right(pixel[1]-up, pixel[1]+down, pixel[0]+right+1):\n",
    "                    expanded = True\n",
    "                    right += 1\n",
    "            \n",
    "            elif move == 2: # 2 is up\n",
    "                if expand_up_down(pixel[0]-left, pixel[0]+right, pixel[1]-up-1):\n",
    "                    expanded = True\n",
    "                    up += 1\n",
    "                    \n",
    "            else: # 3 is down\n",
    "                if expand_up_down(pixel[0]-left, pixel[0]+right, pixel[1]+down+1):\n",
    "                    expanded = True\n",
    "                    down += 1\n",
    "            \n",
    "    return (left, right, up, down)\n",
    "\n",
    "def expand_rectangle(pixel):\n",
    "    best_area = 0\n",
    "    best_coords = (0, 0, 0, 0)\n",
    "    \n",
    "    strategies = [(0, 0, 1, 1, 2, 2, 3, 3), (3, 3, 2, 2, 0, 0, 1, 1), (0, 2, 1, 3),\\\n",
    "                  (2, 0, 3, 1), (0, 0, 1, 1, 2, 3), (3, 3, 2, 2, 0, 1)]\n",
    "    \n",
    "    for strategy in strategies:\n",
    "        new_coords = expand_strategy(pixel, strategy)\n",
    "        new_area = (new_coords[1]+new_coords[0])*(new_coords[2]+new_coords[3])\n",
    "        if new_area > best_area:\n",
    "            best_area = new_area\n",
    "            best_coords = new_coords\n",
    "    \n",
    "    return best_coords\n",
    "        \n",
    "def expand_up_down(left, right, line):\n",
    "    global img\n",
    "    for i in range(left, right+1):\n",
    "        if not inside_image((i, line)) or is_white(img[(i, line)]):\n",
    "            return False # cannot expand\n",
    "    return True\n",
    "\n",
    "def expand_left_right(up, down, line):\n",
    "    global img\n",
    "    for i in range(up, down+1):\n",
    "        if not inside_image((line, i)) or is_white(img[(line, i)]):\n",
    "            return False # cannot expand\n",
    "    return True"
   ]
  },
  {
   "cell_type": "code",
   "execution_count": 366,
   "metadata": {},
   "outputs": [],
   "source": [
    "def fill_white(ul, lr): # fill in rectangle from upper-left to lower-right\n",
    "    global img\n",
    "    for col in range(ul[0], lr[0]+1):\n",
    "        for row in range(ul[1], lr[1]+1):\n",
    "            img[col, row] = (0, 255, 0) # make everything white!"
   ]
  },
  {
   "cell_type": "code",
   "execution_count": 367,
   "metadata": {},
   "outputs": [],
   "source": [
    "def find_blank(num_points=40):\n",
    "    boxes = []\n",
    "    for num in range(num_points):\n",
    "        point = max_distance_pixel()\n",
    "        (left, right, up, down) = expand_rectangle(point)\n",
    "        fill_white((point[0]-left, point[1]-up), (point[0]+right, point[1]+down))\n",
    "        boxes.append(((point[0]-left, point[1]-up), (point[0]+right, point[1]+down)))\n",
    "        #fill_white((point[0]-10, point[1]-10), (point[0]+10, point[1]+10))\n",
    "    return boxes"
   ]
  },
  {
   "cell_type": "code",
   "execution_count": 371,
   "metadata": {},
   "outputs": [
    {
     "name": "stdout",
     "output_type": "stream",
     "text": [
      "yolo\n",
      "yolo\n",
      "yolo\n",
      "yolo\n"
     ]
    },
    {
     "ename": "KeyboardInterrupt",
     "evalue": "",
     "output_type": "error",
     "traceback": [
      "\u001b[1;31m---------------------------------------------------------------------------\u001b[0m",
      "\u001b[1;31mKeyboardInterrupt\u001b[0m                         Traceback (most recent call last)",
      "\u001b[1;32m<ipython-input-371-dc505ce03df2>\u001b[0m in \u001b[0;36m<module>\u001b[1;34m()\u001b[0m\n\u001b[0;32m     10\u001b[0m \u001b[0mwidth\u001b[0m\u001b[1;33m,\u001b[0m \u001b[0mheight\u001b[0m \u001b[1;33m=\u001b[0m \u001b[0mrgb_im1\u001b[0m\u001b[1;33m.\u001b[0m\u001b[0msize\u001b[0m\u001b[1;33m\u001b[0m\u001b[0m\n\u001b[0;32m     11\u001b[0m \u001b[0mimg\u001b[0m \u001b[1;33m=\u001b[0m \u001b[0mrgb_im1\u001b[0m\u001b[1;33m.\u001b[0m\u001b[0mload\u001b[0m\u001b[1;33m(\u001b[0m\u001b[1;33m)\u001b[0m\u001b[1;33m\u001b[0m\u001b[0m\n\u001b[1;32m---> 12\u001b[1;33m \u001b[0mboxes\u001b[0m \u001b[1;33m=\u001b[0m \u001b[0mfind_blank\u001b[0m\u001b[1;33m(\u001b[0m\u001b[1;33m)\u001b[0m\u001b[1;33m\u001b[0m\u001b[0m\n\u001b[0m",
      "\u001b[1;32m<ipython-input-367-cc9044ffbb74>\u001b[0m in \u001b[0;36mfind_blank\u001b[1;34m(num_points)\u001b[0m\n\u001b[0;32m      2\u001b[0m     \u001b[0mboxes\u001b[0m \u001b[1;33m=\u001b[0m \u001b[1;33m[\u001b[0m\u001b[1;33m]\u001b[0m\u001b[1;33m\u001b[0m\u001b[0m\n\u001b[0;32m      3\u001b[0m     \u001b[1;32mfor\u001b[0m \u001b[0mnum\u001b[0m \u001b[1;32min\u001b[0m \u001b[0mrange\u001b[0m\u001b[1;33m(\u001b[0m\u001b[0mnum_points\u001b[0m\u001b[1;33m)\u001b[0m\u001b[1;33m:\u001b[0m\u001b[1;33m\u001b[0m\u001b[0m\n\u001b[1;32m----> 4\u001b[1;33m         \u001b[0mpoint\u001b[0m \u001b[1;33m=\u001b[0m \u001b[0mmax_distance_pixel\u001b[0m\u001b[1;33m(\u001b[0m\u001b[1;33m)\u001b[0m\u001b[1;33m\u001b[0m\u001b[0m\n\u001b[0m\u001b[0;32m      5\u001b[0m         \u001b[1;33m(\u001b[0m\u001b[0mleft\u001b[0m\u001b[1;33m,\u001b[0m \u001b[0mright\u001b[0m\u001b[1;33m,\u001b[0m \u001b[0mup\u001b[0m\u001b[1;33m,\u001b[0m \u001b[0mdown\u001b[0m\u001b[1;33m)\u001b[0m \u001b[1;33m=\u001b[0m \u001b[0mexpand_rectangle\u001b[0m\u001b[1;33m(\u001b[0m\u001b[0mpoint\u001b[0m\u001b[1;33m)\u001b[0m\u001b[1;33m\u001b[0m\u001b[0m\n\u001b[0;32m      6\u001b[0m         \u001b[0mfill_white\u001b[0m\u001b[1;33m(\u001b[0m\u001b[1;33m(\u001b[0m\u001b[0mpoint\u001b[0m\u001b[1;33m[\u001b[0m\u001b[1;36m0\u001b[0m\u001b[1;33m]\u001b[0m\u001b[1;33m-\u001b[0m\u001b[0mleft\u001b[0m\u001b[1;33m,\u001b[0m \u001b[0mpoint\u001b[0m\u001b[1;33m[\u001b[0m\u001b[1;36m1\u001b[0m\u001b[1;33m]\u001b[0m\u001b[1;33m-\u001b[0m\u001b[0mup\u001b[0m\u001b[1;33m)\u001b[0m\u001b[1;33m,\u001b[0m \u001b[1;33m(\u001b[0m\u001b[0mpoint\u001b[0m\u001b[1;33m[\u001b[0m\u001b[1;36m0\u001b[0m\u001b[1;33m]\u001b[0m\u001b[1;33m+\u001b[0m\u001b[0mright\u001b[0m\u001b[1;33m,\u001b[0m \u001b[0mpoint\u001b[0m\u001b[1;33m[\u001b[0m\u001b[1;36m1\u001b[0m\u001b[1;33m]\u001b[0m\u001b[1;33m+\u001b[0m\u001b[0mdown\u001b[0m\u001b[1;33m)\u001b[0m\u001b[1;33m)\u001b[0m\u001b[1;33m\u001b[0m\u001b[0m\n",
      "\u001b[1;32m<ipython-input-364-39a24f007575>\u001b[0m in \u001b[0;36mmax_distance_pixel\u001b[1;34m()\u001b[0m\n\u001b[0;32m     34\u001b[0m             \u001b[1;32mif\u001b[0m \u001b[0mi\u001b[0m\u001b[1;33m%\u001b[0m\u001b[1;36m60\u001b[0m \u001b[1;33m==\u001b[0m \u001b[1;36m0\u001b[0m \u001b[1;32mand\u001b[0m \u001b[0mj\u001b[0m \u001b[1;33m==\u001b[0m \u001b[1;36m0\u001b[0m\u001b[1;33m:\u001b[0m\u001b[1;33m\u001b[0m\u001b[0m\n\u001b[0;32m     35\u001b[0m                 \u001b[0mprint\u001b[0m\u001b[1;33m(\u001b[0m\u001b[1;34m\"yolo\"\u001b[0m\u001b[1;33m)\u001b[0m\u001b[1;33m\u001b[0m\u001b[0m\n\u001b[1;32m---> 36\u001b[1;33m             \u001b[0mpixel_distance\u001b[0m \u001b[1;33m=\u001b[0m \u001b[0mborder_distance\u001b[0m\u001b[1;33m(\u001b[0m\u001b[1;33m(\u001b[0m\u001b[0mi\u001b[0m\u001b[1;33m,\u001b[0m \u001b[0mj\u001b[0m\u001b[1;33m)\u001b[0m\u001b[1;33m)\u001b[0m\u001b[1;33m\u001b[0m\u001b[0m\n\u001b[0m\u001b[0;32m     37\u001b[0m             \u001b[1;32mif\u001b[0m \u001b[0mpixel_distance\u001b[0m \u001b[1;33m>\u001b[0m \u001b[0mmax_border_distance\u001b[0m\u001b[1;33m:\u001b[0m\u001b[1;33m\u001b[0m\u001b[0m\n\u001b[0;32m     38\u001b[0m                 \u001b[0mmax_border_distance\u001b[0m \u001b[1;33m=\u001b[0m \u001b[0mpixel_distance\u001b[0m\u001b[1;33m\u001b[0m\u001b[0m\n",
      "\u001b[1;32m<ipython-input-364-39a24f007575>\u001b[0m in \u001b[0;36mborder_distance\u001b[1;34m(coords)\u001b[0m\n\u001b[0;32m     23\u001b[0m \u001b[1;33m\u001b[0m\u001b[0m\n\u001b[0;32m     24\u001b[0m \u001b[1;32mdef\u001b[0m \u001b[0mborder_distance\u001b[0m\u001b[1;33m(\u001b[0m\u001b[0mcoords\u001b[0m\u001b[1;33m)\u001b[0m\u001b[1;33m:\u001b[0m\u001b[1;33m\u001b[0m\u001b[0m\n\u001b[1;32m---> 25\u001b[1;33m     \u001b[1;32mreturn\u001b[0m \u001b[0mmin\u001b[0m\u001b[1;33m(\u001b[0m\u001b[0mextend_dir\u001b[0m\u001b[1;33m(\u001b[0m\u001b[0mcoords\u001b[0m\u001b[1;33m,\u001b[0m \u001b[1;33m(\u001b[0m\u001b[1;33m-\u001b[0m\u001b[1;36m1\u001b[0m\u001b[1;33m,\u001b[0m \u001b[1;36m0\u001b[0m\u001b[1;33m)\u001b[0m\u001b[1;33m)\u001b[0m\u001b[1;33m,\u001b[0m \u001b[0mextend_dir\u001b[0m\u001b[1;33m(\u001b[0m\u001b[0mcoords\u001b[0m\u001b[1;33m,\u001b[0m \u001b[1;33m(\u001b[0m\u001b[1;36m1\u001b[0m\u001b[1;33m,\u001b[0m \u001b[1;36m0\u001b[0m\u001b[1;33m)\u001b[0m\u001b[1;33m)\u001b[0m\u001b[1;33m,\u001b[0m \u001b[0mextend_dir\u001b[0m\u001b[1;33m(\u001b[0m\u001b[0mcoords\u001b[0m\u001b[1;33m,\u001b[0m \u001b[1;33m(\u001b[0m\u001b[1;36m0\u001b[0m\u001b[1;33m,\u001b[0m \u001b[1;36m1\u001b[0m\u001b[1;33m)\u001b[0m\u001b[1;33m)\u001b[0m\u001b[1;33m,\u001b[0m \u001b[0mextend_dir\u001b[0m\u001b[1;33m(\u001b[0m\u001b[0mcoords\u001b[0m\u001b[1;33m,\u001b[0m \u001b[1;33m(\u001b[0m\u001b[1;36m0\u001b[0m\u001b[1;33m,\u001b[0m \u001b[1;33m-\u001b[0m\u001b[1;36m1\u001b[0m\u001b[1;33m)\u001b[0m\u001b[1;33m)\u001b[0m\u001b[1;33m)\u001b[0m\u001b[1;33m\u001b[0m\u001b[0m\n\u001b[0m\u001b[0;32m     26\u001b[0m \u001b[1;33m\u001b[0m\u001b[0m\n\u001b[0;32m     27\u001b[0m \u001b[1;32mdef\u001b[0m \u001b[0mmax_distance_pixel\u001b[0m\u001b[1;33m(\u001b[0m\u001b[1;33m)\u001b[0m\u001b[1;33m:\u001b[0m\u001b[1;33m\u001b[0m\u001b[0m\n",
      "\u001b[1;32m<ipython-input-364-39a24f007575>\u001b[0m in \u001b[0;36mextend_dir\u001b[1;34m(coords, direction)\u001b[0m\n\u001b[0;32m     17\u001b[0m         \u001b[1;32mif\u001b[0m \u001b[1;32mnot\u001b[0m \u001b[0minside_image\u001b[0m\u001b[1;33m(\u001b[0m\u001b[0mtemp_coords\u001b[0m\u001b[1;33m)\u001b[0m\u001b[1;33m:\u001b[0m\u001b[1;33m\u001b[0m\u001b[0m\n\u001b[0;32m     18\u001b[0m             \u001b[1;32mreturn\u001b[0m \u001b[0mmagnitude\u001b[0m\u001b[1;33m\u001b[0m\u001b[0m\n\u001b[1;32m---> 19\u001b[1;33m         \u001b[1;32mif\u001b[0m \u001b[0mis_white\u001b[0m\u001b[1;33m(\u001b[0m\u001b[0mimg\u001b[0m\u001b[1;33m[\u001b[0m\u001b[0mtemp_coords\u001b[0m\u001b[1;33m]\u001b[0m\u001b[1;33m)\u001b[0m\u001b[1;33m:\u001b[0m\u001b[1;33m\u001b[0m\u001b[0m\n\u001b[0m\u001b[0;32m     20\u001b[0m             \u001b[1;32mreturn\u001b[0m \u001b[0mmagnitude\u001b[0m\u001b[1;33m\u001b[0m\u001b[0m\n\u001b[0;32m     21\u001b[0m         \u001b[0mtemp_coords\u001b[0m \u001b[1;33m=\u001b[0m \u001b[1;33m(\u001b[0m\u001b[0mtemp_coords\u001b[0m\u001b[1;33m[\u001b[0m\u001b[1;36m0\u001b[0m\u001b[1;33m]\u001b[0m \u001b[1;33m+\u001b[0m \u001b[0mdirection\u001b[0m\u001b[1;33m[\u001b[0m\u001b[1;36m0\u001b[0m\u001b[1;33m]\u001b[0m\u001b[1;33m,\u001b[0m \u001b[0mtemp_coords\u001b[0m\u001b[1;33m[\u001b[0m\u001b[1;36m1\u001b[0m\u001b[1;33m]\u001b[0m \u001b[1;33m+\u001b[0m \u001b[0mdirection\u001b[0m\u001b[1;33m[\u001b[0m\u001b[1;36m1\u001b[0m\u001b[1;33m]\u001b[0m\u001b[1;33m)\u001b[0m\u001b[1;33m\u001b[0m\u001b[0m\n",
      "\u001b[1;31mKeyboardInterrupt\u001b[0m: "
     ]
    }
   ],
   "source": [
    "im = Image.open(\"empty_w2.jpg\")\n",
    "im1 = im.filter(ImageFilter.FIND_EDGES)\n",
    "im2 = im1.filter(ImageFilter.MaxFilter(size=7))\n",
    "rgb_im1 = im2.convert('RGB')\n",
    "rgb_im1.show()\n",
    "global img\n",
    "global width\n",
    "global height\n",
    "width, height = rgb_im1.size\n",
    "img = rgb_im1.load()\n",
    "boxes = find_blank()"
   ]
  },
  {
   "cell_type": "code",
   "execution_count": null,
   "metadata": {},
   "outputs": [],
   "source": [
    "rgb_im1.show()"
   ]
  }
 ],
 "metadata": {
  "kernelspec": {
   "display_name": "Python 3",
   "language": "python",
   "name": "python3"
  },
  "language_info": {
   "codemirror_mode": {
    "name": "ipython",
    "version": 3
   },
   "file_extension": ".py",
   "mimetype": "text/x-python",
   "name": "python",
   "nbconvert_exporter": "python",
   "pygments_lexer": "ipython3",
   "version": "3.6.3"
  },
  "toc": {
   "nav_menu": {},
   "number_sections": true,
   "sideBar": true,
   "skip_h1_title": false,
   "title_cell": "Table of Contents",
   "title_sidebar": "Contents",
   "toc_cell": false,
   "toc_position": {},
   "toc_section_display": true,
   "toc_window_display": false
  }
 },
 "nbformat": 4,
 "nbformat_minor": 2
}
