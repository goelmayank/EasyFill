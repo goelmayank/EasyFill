{
 "cells": [
  {
   "cell_type": "code",
   "execution_count": 42,
   "metadata": {},
   "outputs": [],
   "source": [
    "import pytesseract\n",
    "import argparse\n",
    "import cv2\n",
    "import os"
   ]
  },
  {
   "cell_type": "code",
   "execution_count": 50,
   "metadata": {},
   "outputs": [
    {
     "ename": "FileNotFoundError",
     "evalue": "[Errno 2] No such file or directory: 'form.jpg'",
     "output_type": "error",
     "traceback": [
      "\u001b[0;31m---------------------------------------------------------------------------\u001b[0m",
      "\u001b[0;31mFileNotFoundError\u001b[0m                         Traceback (most recent call last)",
      "\u001b[0;32m<ipython-input-50-06a5f660ca5c>\u001b[0m in \u001b[0;36m<module>\u001b[0;34m()\u001b[0m\n\u001b[1;32m      1\u001b[0m \u001b[0;32mfrom\u001b[0m \u001b[0mPIL\u001b[0m \u001b[0;32mimport\u001b[0m \u001b[0mImage\u001b[0m\u001b[0;34m\u001b[0m\u001b[0m\n\u001b[1;32m      2\u001b[0m \u001b[0;32mfrom\u001b[0m \u001b[0mPIL\u001b[0m \u001b[0;32mimport\u001b[0m \u001b[0mImageFilter\u001b[0m\u001b[0;34m\u001b[0m\u001b[0m\n\u001b[0;32m----> 3\u001b[0;31m \u001b[0mim\u001b[0m \u001b[0;34m=\u001b[0m \u001b[0mImage\u001b[0m\u001b[0;34m.\u001b[0m\u001b[0mopen\u001b[0m\u001b[0;34m(\u001b[0m\u001b[0;34m\"form.jpg\"\u001b[0m\u001b[0;34m)\u001b[0m\u001b[0;34m\u001b[0m\u001b[0m\n\u001b[0m\u001b[1;32m      4\u001b[0m \u001b[0mim\u001b[0m\u001b[0;34m.\u001b[0m\u001b[0mshow\u001b[0m\u001b[0;34m(\u001b[0m\u001b[0;34m)\u001b[0m\u001b[0;34m\u001b[0m\u001b[0m\n\u001b[1;32m      5\u001b[0m \u001b[0mim1\u001b[0m \u001b[0;34m=\u001b[0m \u001b[0mim\u001b[0m\u001b[0;34m.\u001b[0m\u001b[0mfilter\u001b[0m\u001b[0;34m(\u001b[0m\u001b[0mImageFilter\u001b[0m\u001b[0;34m.\u001b[0m\u001b[0mFIND_EDGES\u001b[0m\u001b[0;34m)\u001b[0m\u001b[0;34m\u001b[0m\u001b[0m\n",
      "\u001b[0;32m~/miniconda3/lib/python3.6/site-packages/PIL/Image.py\u001b[0m in \u001b[0;36mopen\u001b[0;34m(fp, mode)\u001b[0m\n\u001b[1;32m   2528\u001b[0m \u001b[0;34m\u001b[0m\u001b[0m\n\u001b[1;32m   2529\u001b[0m     \u001b[0;32mif\u001b[0m \u001b[0mfilename\u001b[0m\u001b[0;34m:\u001b[0m\u001b[0;34m\u001b[0m\u001b[0m\n\u001b[0;32m-> 2530\u001b[0;31m         \u001b[0mfp\u001b[0m \u001b[0;34m=\u001b[0m \u001b[0mbuiltins\u001b[0m\u001b[0;34m.\u001b[0m\u001b[0mopen\u001b[0m\u001b[0;34m(\u001b[0m\u001b[0mfilename\u001b[0m\u001b[0;34m,\u001b[0m \u001b[0;34m\"rb\"\u001b[0m\u001b[0;34m)\u001b[0m\u001b[0;34m\u001b[0m\u001b[0m\n\u001b[0m\u001b[1;32m   2531\u001b[0m         \u001b[0mexclusive_fp\u001b[0m \u001b[0;34m=\u001b[0m \u001b[0;32mTrue\u001b[0m\u001b[0;34m\u001b[0m\u001b[0m\n\u001b[1;32m   2532\u001b[0m \u001b[0;34m\u001b[0m\u001b[0m\n",
      "\u001b[0;31mFileNotFoundError\u001b[0m: [Errno 2] No such file or directory: 'form.jpg'"
     ]
    }
   ],
   "source": [
    "from PIL import Image\n",
    "from PIL import ImageFilter\n",
    "im = Image.open(\"form.jpg\")\n",
    "im.show()\n",
    "im1 = im.filter(ImageFilter.FIND_EDGES)\n",
    "im1.show()"
   ]
  },
  {
   "cell_type": "code",
   "execution_count": 49,
   "metadata": {},
   "outputs": [
    {
     "name": "stdout",
     "output_type": "stream",
     "text": [
      "Domlonmtm inmummﬂ\n",
      "E 1040K Amended U.S. IndIVId’aal Income Tax Retum BMW #500“\n",
      "\n",
      " \n",
      "\n",
      " \n",
      "\n",
      " \n",
      "\n",
      " \n",
      "\n",
      " \n",
      "\n",
      "mm “mm 2m: . “mm .m m W .m m .0\"... mm. i, n mam/mm.\n",
      "\n",
      "ﬂu: \"um! I: [or cnIIndar year 1:] 201: E] 2012 [:1 2““ Elm“)\n",
      "\n",
      "other your. Emu one calendar Year or \"Sell year (\"loam and year ”Idem:\n",
      "\n",
      "WMWW um. “mm...“wnm\n",
      "n n\n",
      "\n",
      "W a.“ Wm. mom mm. m... WWWW\n",
      "s n\n",
      "\n",
      "um. mm m .u M u ,w m. . p c. M .. W.“ An, m W. W\n",
      "\n",
      " \n",
      "\n",
      " \n",
      "\n",
      "any mnuwnmfn».nm.m2wmdl nyunnnmmgnm— mmpmxmmbﬂuw1m‘mmmm}\n",
      "\n",
      " \n",
      "\n",
      "rm\" country rum. Fawn wawm-mam/mumy mun 9314mm\n",
      "\n",
      " \n",
      "\n",
      " \n",
      "\n",
      " \n",
      "\n",
      "Amondoﬂ mum mlng sum. vau mun check one box even I! you am not chanulng you: mm smus.\n",
      "cnunan, m causal. you cannot change your mum status from 10m! to waists returns alter the due dale.\n",
      "\n",
      " \n",
      "\n",
      "D Smale El Mamsd ﬁlm many El Mam mm wpavamy\n",
      "D comm mm a mu ammo (\"no qualeg mm m mu m nmym. WI, minswuclmnlj\n",
      "Use Pan III on the oack to axplsln any changes lawn-\"1;\" migrm; r“ m,\n",
      "\n",
      "mu m Mmul- mm\n",
      "\n",
      "Income and Deducllons um mmmms) up n.\" PM m\n"
     ]
    }
   ],
   "source": [
    "filename = \"form.jpg\"\n",
    "text = pytesseract.image_to_string(Image.open(filename))\n",
    "print(text)"
   ]
  },
  {
   "cell_type": "code",
   "execution_count": 30,
   "metadata": {},
   "outputs": [],
   "source": [
    "from PIL import Image\n",
    "from PIL import ImageFont\n",
    "from PIL import ImageDraw \n",
    "\n",
    "fnt = ImageFont.truetype('Pillow/Tests/fonts/FreeMono.ttf', 20)\n",
    "img = Image.open(\"form.jpg\")\n",
    "draw = ImageDraw.Draw(img)\n",
    "# font = ImageFont.truetype(<font-file>, <font-size>)\n",
    "#font = ImageFont.truetype(\"sans-serif.ttf\", 16)\n",
    "# draw.text((x, y),\"Sample Text\",(r,g,b))\n",
    "draw.text((150, 100),\"Obas\", font = fnt, fill = (0,0,0))\n",
    "img.show()"
   ]
  },
  {
   "cell_type": "code",
   "execution_count": 27,
   "metadata": {},
   "outputs": [],
   "source": [
    "rgb_im = im.convert('RGB')\n",
    "r, g, b = rgb_im.getpixel((1, 1))"
   ]
  },
  {
   "cell_type": "code",
   "execution_count": 28,
   "metadata": {},
   "outputs": [
    {
     "name": "stdout",
     "output_type": "stream",
     "text": [
      "255\n",
      "255\n",
      "255\n"
     ]
    }
   ],
   "source": [
    "print(r)\n",
    "print(g)\n",
    "print(b)"
   ]
  },
  {
   "cell_type": "code",
   "execution_count": 41,
   "metadata": {},
   "outputs": [],
   "source": [
    "#im = Image.open(\"W2.png\")\n",
    "im2 = im1.filter(ImageFilter.MaxFilter(size=7))\n",
    "im2.show()"
   ]
  },
  {
   "cell_type": "code",
   "execution_count": 13,
   "metadata": {},
   "outputs": [],
   "source": [
    "# how to find the blank spaces\n",
    "# get the pixel that is further away from a white and expand as long as you can\n",
    "im3 = im2.copy()\n",
    "pixels = im3.load()\n",
    "for i in range(100, 2000):\n",
    "    for j in range(100, 2000):\n",
    "        pixels[i, j] = (255, 255, 255)\n",
    "        \n",
    "im3.show()"
   ]
  },
  {
   "cell_type": "code",
   "execution_count": 59,
   "metadata": {},
   "outputs": [],
   "source": [
    "im2.show()"
   ]
  },
  {
   "cell_type": "code",
   "execution_count": 60,
   "metadata": {},
   "outputs": [],
   "source": [
    "def is_white(pixel_val):\n",
    "    \"\"\"tuple with (r, g, b) values\"\"\"\n",
    "    return (r + g + b) > 250*3 # allow a small noise for white"
   ]
  },
  {
   "cell_type": "code",
   "execution_count": 61,
   "metadata": {},
   "outputs": [],
   "source": [
    "def inside_image(img, coords):\n",
    "    width, height = img.size\n",
    "    return (coords[0] >=0 and coords[1] >= 0) and (coords[0] < width and coords[1] < height)"
   ]
  },
  {
   "cell_type": "code",
   "execution_count": 63,
   "metadata": {},
   "outputs": [],
   "source": [
    "def extend_dir(img, coords, direction):\n",
    "    temp_coords = coords\n",
    "    for magnitude in range(max(img.size[0], img.size[1])+2):\n",
    "        if not inside_image(img, temp_cords):\n",
    "            return magnitude\n",
    "        if is_white(img.getpixel(temp_coords)):\n",
    "            return magnitude\n",
    "        temp_coords = (temp_coords + direction[0], temp_coords + direction[1])"
   ]
  },
  {
   "cell_type": "code",
   "execution_count": 64,
   "metadata": {},
   "outputs": [],
   "source": [
    "def border_distance(img, coords):\n",
    "    return min(extend_dir(img, coords, (-1, 0)), extend_dir(img, coords, (1, 0)),\\\n",
    "               extend_dir(img, coords, (0, 1)), extend_dir(img, coords, (0, -1)))"
   ]
  },
  {
   "cell_type": "code",
   "execution_count": 65,
   "metadata": {},
   "outputs": [],
   "source": [
    "def max_distance_pixel(img):\n",
    "    width, height = img.size\n",
    "    max_border_distance = 0\n",
    "    candidate_pixel = (1, 1)\n",
    "    for i in range(0, width):\n",
    "        for j in range(0, height):\n",
    "            pixel_distance = border_distance(img, (i, j))\n",
    "            if pixel_distance >= max_border_distance:\n",
    "                max_border_distance = pixel_distance\n",
    "                candidate_pixel = (i, j)\n",
    "    return candidate_pixel"
   ]
  },
  {
   "cell_type": "code",
   "execution_count": null,
   "metadata": {},
   "outputs": [],
   "source": [
    "def expand_rectangle(img, pixel):\n",
    "    expand = (0, 0, 0, 0) # expand left, right, up, down\n",
    "    "
   ]
  },
  {
   "cell_type": "code",
   "execution_count": null,
   "metadata": {},
   "outputs": [],
   "source": [
    "def expand_up(img, left, right, line):\n",
    "    for i in range(left, right+1):\n",
    "        if inside_image(img, (i, line)) and not "
   ]
  }
 ],
 "metadata": {
  "kernelspec": {
   "display_name": "Python 3",
   "language": "python",
   "name": "python3"
  },
  "language_info": {
   "codemirror_mode": {
    "name": "ipython",
    "version": 3
   },
   "file_extension": ".py",
   "mimetype": "text/x-python",
   "name": "python",
   "nbconvert_exporter": "python",
   "pygments_lexer": "ipython3",
   "version": "3.6.3"
  },
  "toc": {
   "nav_menu": {},
   "number_sections": true,
   "sideBar": true,
   "skip_h1_title": false,
   "title_cell": "Table of Contents",
   "title_sidebar": "Contents",
   "toc_cell": false,
   "toc_position": {},
   "toc_section_display": true,
   "toc_window_display": false
  }
 },
 "nbformat": 4,
 "nbformat_minor": 2
}
